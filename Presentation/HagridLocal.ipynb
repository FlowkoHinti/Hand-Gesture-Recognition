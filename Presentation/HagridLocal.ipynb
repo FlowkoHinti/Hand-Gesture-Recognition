{
  "cells": [
    {
      "cell_type": "markdown",
      "metadata": {
        "id": "rzTGeu2KtI-E"
      },
      "source": [
        "# Presentation"
      ]
    },
    {
      "cell_type": "code",
      "execution_count": 2,
      "metadata": {
        "id": "yu1UIMogiCnu"
      },
      "outputs": [],
      "source": [
        "# import dependencies\n",
        "import cv2\n",
        "from IPython.display import display, clear_output\n",
        "from PIL import Image, ImageDraw\n",
        "import numpy as np\n",
        "import keyboard"
      ]
    },
    {
      "cell_type": "code",
      "execution_count": 3,
      "metadata": {},
      "outputs": [],
      "source": [
        "from ultralytics import YOLO\n",
        "\n",
        "# Load a pre-trained YOLOv10n model\n",
        "model = YOLO(\"./../Model/YOLOv10x_hands.pt\")"
      ]
    },
    {
      "cell_type": "code",
      "execution_count": 4,
      "metadata": {},
      "outputs": [],
      "source": [
        "def draw_rectangle(frame, startXY, endXY, color=(0, 255, 0), thickness=2, text=\"\"):\n",
        "    y = startXY[1] - 10 if startXY[1] - 10 > 10 else startXY[1] + 10\n",
        "    cv2.rectangle(frame, startXY, endXY, color, thickness)\n",
        "    cv2.putText(frame, text, (startXY[0], y), cv2.FONT_HERSHEY_SIMPLEX, 0.45, (0, 0, 255), 2)\n"
      ]
    },
    {
      "cell_type": "code",
      "execution_count": null,
      "metadata": {},
      "outputs": [],
      "source": [
        "# Open the video capture (camera)\n",
        "cap = cv2.VideoCapture(0)\n",
        "\n",
        "if not cap.isOpened():\n",
        "    print(\"Error: Could not open video stream.\")\n",
        "else:\n",
        "    try:\n",
        "        while True:\n",
        "            # Capture frame-by-frame\n",
        "            ret, frame = cap.read()\n",
        "\n",
        "            # If frame was not captured correctly, break the loop\n",
        "            if not ret:\n",
        "                print(\"Failed to grab frame.\")\n",
        "                break\n",
        "\n",
        "            # Convert frame (BGR to RGB)\n",
        "            rgb_frame = cv2.cvtColor(frame, cv2.COLOR_BGR2RGB)\n",
        "\n",
        "            # Draw a rectangle on the frame\n",
        "            #draw_rectangle(rgb_frame, (100, 100), (200, 200), text=\"Hand\")\n",
        "\n",
        "            # Convert to Image for display in Jupyter\n",
        "            img = Image.fromarray(rgb_frame)\n",
        "\n",
        "            # Perform object detection on the frame using YOLO\n",
        "            results = model(img)\n",
        "\n",
        "            # Draw bounding boxes on the frame\n",
        "            draw = ImageDraw.Draw(img)\n",
        "\n",
        "            for result in results:\n",
        "                for detection in result.boxes:\n",
        "                    # Get the bounding box coordinates and class\n",
        "                    x1, y1, x2, y2 = detection.xyxy[0].tolist()  # Bounding box corners\n",
        "                    #class_name = detection.label  # Detected class name\n",
        "\n",
        "                    # Draw the bounding box and label\n",
        "                    draw.rectangle([x1, y1, x2, y2], outline=\"green\", width=2)\n",
        "                    #draw.text((x1, y1 - 10), class_name, fill=\"red\")  # Draw class label\n",
        "\n",
        "            # Clear previous output and display the current frame\n",
        "            clear_output(wait=True)\n",
        "            display(img)\n",
        "\n",
        "            # Check for 'q' key press to stop the loop\n",
        "            if keyboard.is_pressed('q'):\n",
        "                print(\"Key 'q' pressed. Exiting.\")\n",
        "                break\n",
        "    except KeyboardInterrupt:\n",
        "        print(\"Stopped manually.\")\n",
        "    finally:\n",
        "        # Release the capture object\n",
        "        cap.release()\n",
        "        cv2.destroyAllWindows()"
      ]
    }
  ],
  "metadata": {
    "colab": {
      "provenance": []
    },
    "kernelspec": {
      "display_name": "deepl4",
      "language": "python",
      "name": "python3"
    },
    "language_info": {
      "codemirror_mode": {
        "name": "ipython",
        "version": 3
      },
      "file_extension": ".py",
      "mimetype": "text/x-python",
      "name": "python",
      "nbconvert_exporter": "python",
      "pygments_lexer": "ipython3",
      "version": "3.10.15"
    }
  },
  "nbformat": 4,
  "nbformat_minor": 0
}
